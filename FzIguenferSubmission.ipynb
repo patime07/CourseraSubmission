{
 "cells": [
  {
   "attachments": {},
   "cell_type": "markdown",
   "id": "ac87716b-1278-47f9-bec9-42d8f7c4d591",
   "metadata": {},
   "source": [
    "\n",
    "<h3>Guidelines for the submission:</h3> <br>\n",
    "<ol>\n",
    "<li>Exercise 2 - Create a markdown cell with the title of the notebook. (1 pt)</li>\n",
    "\n",
    "<li>Exercise 3 - Create a markdown cell for an introduction. (1 pt)</li>\n",
    "\n",
    "<li>Exercise 4 - Create a markdown cell to list data science languages. (3 pts)</li>\n",
    "\n",
    "<li>Exercise 5 - Create a markdown cell to list data science libraries. (3 pts)</li>\n",
    "\n",
    "<li>Exercise 6 - Create a markdown cell with a table of Data Science tools. (3 pts)</li>\n",
    "\n",
    "<li>Exercise 7 - Create a markdown cell introducing arithmetic expression examples. (1 pt)</li>\n",
    "\n",
    "<li>Exercise 8 - Create a code cell to multiply and add numbers.(2 pts)</li>\n",
    "\n",
    "<li>Exercise 9 - Create a code cell to convert minutes to hours. (2 pts)</li>\n",
    "\n",
    "<li>Exercise 10 -Insert a markdown cell to list Objectives. (3 pts)</li>\n",
    "\n",
    "<li>Exercise 11 - Create a markdown cell to indicate the Author’s name. (2 pts)</li>\n",
    "\n",
    "<li>Exercise 12 - Share your notebook through GitHub (3 pts)</li>\n",
    "\n",
    "<li>Exercise 13 - Take a screenshot of the first page of the notebook. (1 pt)</li>\n",
    "    \n",
    "</ol>"
   ]
  },
  {
   "attachments": {},
   "cell_type": "markdown",
   "id": "fbe3312d-1bc3-4a88-9f0c-b3c4b32e71ef",
   "metadata": {},
   "source": [
    "<strong>Exercise 2</strong>"
   ]
  },
  {
   "cell_type": "markdown",
   "id": "c0b7dd50-bacf-4dc0-98a1-6785b57fb181",
   "metadata": {},
   "source": [
    "<h1>Data Science Tools and Ecosystem</h1>"
   ]
  },
  {
   "attachments": {},
   "cell_type": "markdown",
   "id": "a5b74512-a6ff-4dd2-89cc-d493d3bfd9fe",
   "metadata": {},
   "source": [
    "<strong>Exercise 3</strong>"
   ]
  },
  {
   "attachments": {},
   "cell_type": "markdown",
   "id": "728d9b1f-1d0b-4eb3-996a-4453c25444b4",
   "metadata": {},
   "source": [
    "<p>This is the introduction of my notebook<p>"
   ]
  },
  {
   "attachments": {},
   "cell_type": "markdown",
   "id": "6015b630-954a-4096-bfc0-dc28b53a378c",
   "metadata": {},
   "source": [
    "<strong>Exercise 4 </strong>"
   ]
  },
  {
   "attachments": {},
   "cell_type": "markdown",
   "id": "3c957deb-56d8-43b4-9ab9-7f5efea83c17",
   "metadata": {},
   "source": [
    "Some of the popular languages that Data Scientists use are:\n",
    "<ol>\n",
    "    <li>Python.</li>\n",
    "    <li>R.</li>\n",
    "    <li>SQL.</li>\n",
    "    <li>Java.</li>\n",
    "    <li>Julia.</li>\n",
    "</ol>\n"
   ]
  },
  {
   "attachments": {},
   "cell_type": "markdown",
   "id": "2e054783-ae15-402a-8391-6fbb81ec784a",
   "metadata": {},
   "source": [
    "<strong>Exercise 5 </strong>"
   ]
  },
  {
   "attachments": {},
   "cell_type": "markdown",
   "id": "5c211684-5f77-4c28-bd23-590a3ab0b368",
   "metadata": {},
   "source": [
    "\n",
    "<ol>\n",
    "    <li>NumPy.</li>\n",
    "    <li>Pandas.</li>\n",
    "    <li>Matplotlib.</li>\n",
    "    <li>SciPy.</li>\n",
    "    <li>BeautifulSoup.</li>\n",
    "    <li>TensorFlow.</li>\n",
    "   <li>SciKit-Learn.</li>\n",
    "    <li>PyBrain.</li>\n",
    "    <li>Keras.</li>\n",
    "    <li>PyTorch.</li>\n",
    "    <li>Scrapy.</li>\n",
    "    <li>Caffe2.</li>\n",
    "\n",
    "</ol>"
   ]
  },
  {
   "attachments": {},
   "cell_type": "markdown",
   "id": "22f68c77-7e82-427a-8e8d-12c0a609989a",
   "metadata": {},
   "source": [
    "<strong>Exercise 6 </strong>"
   ]
  },
  {
   "attachments": {},
   "cell_type": "markdown",
   "id": "34f750eb-46e1-46e8-b8a1-45bf703d5cdb",
   "metadata": {},
   "source": [
    "| Tool       | Description                                                      |\n",
    "|------------|------------------------------------------------------------------|\n",
    "| Python     | Versatile language with extensive libraries for data manipulation, analysis, and machine learning. |\n",
    "| R          | Statistical programming language with a wide range of statistical and graphical techniques. |\n",
    "| SQL        | Language for managing and querying relational databases. |\n",
    "| Julia      | High-level, high-performance programming language for technical computing and data science. |\n",
    "| Scala      | Language used in big data processing, particularly with Apache Spark. |\n",
    "| MATLAB     | Programming language and environment for numerical computing and data analysis. |\n",
    "| Tableau    | Data visualization and business intelligence tool. |\n",
    "| KNIME      | Open-source platform for data integration, preprocessing, modeling, and visualization. |\n",
    "| TensorFlow | Open-source library for machine learning and deep learning. |\n",
    "| PyTorch    | Open-source deep learning framework with a focus on flexibility and ease of use. |\n",
    "\n"
   ]
  },
  {
   "attachments": {},
   "cell_type": "markdown",
   "id": "0ff5d698-28c6-4af7-9fbf-3c8aeac5c162",
   "metadata": {},
   "source": [
    "<strong>Exercise 7</strong>"
   ]
  },
  {
   "cell_type": "code",
   "execution_count": null,
   "id": "1b0019a7-0338-4d65-863d-3a35f0ca72ff",
   "metadata": {},
   "outputs": [
    {
     "data": {
      "text/plain": [
       "9"
      ]
     },
     "execution_count": 27,
     "metadata": {},
     "output_type": "execute_result"
    }
   ],
   "source": [
    "#addition\n",
    "5+6"
   ]
  },
  {
   "cell_type": "code",
   "execution_count": null,
   "id": "ee49c688-2610-4a78-8947-d12f976e940a",
   "metadata": {},
   "outputs": [
    {
     "data": {
      "text/plain": [
       "24"
      ]
     },
     "execution_count": 28,
     "metadata": {},
     "output_type": "execute_result"
    }
   ],
   "source": [
    "#multiplication\n",
    "11*2"
   ]
  },
  {
   "attachments": {},
   "cell_type": "markdown",
   "id": "631c4d61-6e2b-45ac-a6a7-e12c80a37434",
   "metadata": {},
   "source": [
    "<strong>Exercise 8 - Create a code cell to multiply and add numbers</strong>"
   ]
  },
  {
   "cell_type": "code",
   "execution_count": null,
   "id": "ae03f72b-2c05-4884-ae94-adc07167487d",
   "metadata": {},
   "outputs": [
    {
     "data": {
      "text/plain": [
       "17"
      ]
     },
     "execution_count": 30,
     "metadata": {},
     "output_type": "execute_result"
    }
   ],
   "source": [
    "(11*2)+(5+6)\n"
   ]
  },
  {
   "attachments": {},
   "cell_type": "markdown",
   "id": "0d55da1f-c304-40e5-84ce-14243b70e2c0",
   "metadata": {},
   "source": [
    "<strong>Exercise 9 - Create a code cell to convert minutes to hours</strong>"
   ]
  },
  {
   "cell_type": "code",
   "execution_count": null,
   "id": "383731de-c25b-4b4f-a1ce-44f26b6ae2ab",
   "metadata": {},
   "outputs": [
    {
     "name": "stdout",
     "output_type": "stream",
     "text": [
      "0 days, 3.3333333333333335 hours, 0 mins. \n"
     ]
    }
   ],
   "source": [
    "minutes = input(\"Enter time in minutes: \")\n",
    "seconds = minutes * 60\n",
    "print(seconds)"
   ]
  },
  {
   "attachments": {},
   "cell_type": "markdown",
   "id": "8df63065-35dc-4418-a0dc-51c8589c0ce6",
   "metadata": {},
   "source": [
    "<strong>Exercise 10 -Insert a markdown cell to list the objectives.</strong>"
   ]
  },
  {
   "attachments": {},
   "cell_type": "markdown",
   "id": "2ab21b9e-1ba9-4739-a770-c672cb525d65",
   "metadata": {},
   "source": [
    "-List popular languages that Data Scientists use.\n",
    "\n",
    "-List commonly used libraries used by Data Scientists.\n",
    "\n",
    "-Comment on Data Science tools."
   ]
  },
  {
   "cell_type": "markdown",
   "id": "2fe637ac-7c3c-4053-9a9f-7cadbb99d5b6",
   "metadata": {},
   "source": [
    "<strong>Exercise 11 - Create a markdown cell to indicate the Author’s name.</strong>"
   ]
  },
  {
   "attachments": {},
   "cell_type": "markdown",
   "id": "ee566760-e4a1-4439-baf6-5e54e551929f",
   "metadata": {},
   "source": [
    "<h3>Author:</h3> Fz Iguenfer"
   ]
  }
 ],
 "metadata": {
  "kernelspec": {
   "display_name": "Python",
   "language": "python",
   "name": "conda-env-python-py"
  },
  "language_info": {
   "codemirror_mode": {
    "name": "ipython",
    "version": 3
   },
   "file_extension": ".py",
   "mimetype": "text/x-python",
   "name": "python",
   "nbconvert_exporter": "python",
   "pygments_lexer": "ipython3",
   "version": "3.7.12"
  }
 },
 "nbformat": 4,
 "nbformat_minor": 5
}
